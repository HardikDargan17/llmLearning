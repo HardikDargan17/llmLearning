{
 "cells": [
  {
   "cell_type": "code",
   "execution_count": 37,
   "id": "272407d8-492d-4d9c-876f-fc16ad37aa94",
   "metadata": {},
   "outputs": [
    {
     "name": "stderr",
     "output_type": "stream",
     "text": [
      "Device set to use cpu\n"
     ]
    },
    {
     "name": "stdout",
     "output_type": "stream",
     "text": [
      "* Running on local URL:  http://127.0.0.1:7862\n",
      "\n",
      "To create a public link, set `share=True` in `launch()`.\n"
     ]
    },
    {
     "data": {
      "text/html": [
       "<div><iframe src=\"http://127.0.0.1:7862/\" width=\"100%\" height=\"500\" allow=\"autoplay; camera; microphone; clipboard-read; clipboard-write;\" frameborder=\"0\" allowfullscreen></iframe></div>"
      ],
      "text/plain": [
       "<IPython.core.display.HTML object>"
      ]
     },
     "metadata": {},
     "output_type": "display_data"
    },
    {
     "name": "stderr",
     "output_type": "stream",
     "text": [
      "Your max_length is set to 341, but your input_length is only 224. Since this is a summarization task, where outputs shorter than the input are typically wanted, you might consider decreasing max_length manually, e.g. summarizer('...', max_length=112)\n"
     ]
    },
    {
     "name": "stdout",
     "output_type": "stream",
     "text": [
      "Successfully fetched the webpage!\n"
     ]
    },
    {
     "name": "stderr",
     "output_type": "stream",
     "text": [
      "Your max_length is set to 341, but your input_length is only 221. Since this is a summarization task, where outputs shorter than the input are typically wanted, you might consider decreasing max_length manually, e.g. summarizer('...', max_length=110)\n",
      "Your max_length is set to 341, but your input_length is only 221. Since this is a summarization task, where outputs shorter than the input are typically wanted, you might consider decreasing max_length manually, e.g. summarizer('...', max_length=110)\n",
      "Your max_length is set to 341, but your input_length is only 233. Since this is a summarization task, where outputs shorter than the input are typically wanted, you might consider decreasing max_length manually, e.g. summarizer('...', max_length=116)\n",
      "Your max_length is set to 341, but your input_length is only 243. Since this is a summarization task, where outputs shorter than the input are typically wanted, you might consider decreasing max_length manually, e.g. summarizer('...', max_length=121)\n"
     ]
    }
   ],
   "source": [
    "import gradio as gr\n",
    "import requests\n",
    "from bs4 import BeautifulSoup\n",
    "from transformers import pipeline\n",
    "\n",
    "# Define your model name\n",
    "model_name = \"facebook/bart-large-cnn\"\n",
    "\n",
    "# Initialize the summarizer with the specified model\n",
    "summarizer = pipeline(\"summarization\", model=model_name)\n",
    "\n",
    "# Function to summarize text in chunks\n",
    "def summarize_text_in_chunks(text, chunk_size=1024, min_length=30):\n",
    "    summaries = []\n",
    "    for i in range(0, len(text), chunk_size):\n",
    "        chunk = text[i:i+chunk_size]\n",
    "        max_length = max(len(chunk) // 3, min_length)\n",
    "        summary = summarizer(chunk, max_length=max_length, min_length=min_length, do_sample=False)[0]['summary_text']\n",
    "        summaries.append(summary)\n",
    "    return \" \".join(summaries)\n",
    "\n",
    "def fetchText(url):\n",
    "    # Send a GET request to the webpage\n",
    "    response = requests.get(url)\n",
    "    # Check if the request was successful\n",
    "    if response.status_code == 200:\n",
    "        print(\"Successfully fetched the webpage!\")\n",
    "    else:\n",
    "        print(f\"Failed to fetch the webpage. Status code: {response.status_code}\")\n",
    "    # Parse the HTML content of the webpage\n",
    "    soup = BeautifulSoup(response.content, \"html.parser\")\n",
    "    # Extract text from all paragraph tags\n",
    "    paragraphs = soup.find_all(\"p\")\n",
    "    text = \" \".join([para.get_text() for para in paragraphs])\n",
    "    summary = summarize_text_in_chunks(text)\n",
    "    return summary\n",
    "\n",
    "# Set up the Gradio user interface\n",
    "iface = gr.Interface(\n",
    "    fn=fetchText,\n",
    "    inputs=gr.Textbox(lines=2, placeholder=\"Enter URL here...\"),\n",
    "    outputs=gr.Textbox(label=\"Summary\"),\n",
    "    title=\"bart-large-cnn\",\n",
    "    description=\"Summarize the text using AI Model\",\n",
    ")\n",
    "\n",
    "if __name__ == \"__main__\":\n",
    "    iface.launch()\n"
   ]
  },
  {
   "cell_type": "code",
   "execution_count": null,
   "id": "1a77b262-7b91-4b0c-a142-b65d9c1e39cd",
   "metadata": {},
   "outputs": [],
   "source": []
  }
 ],
 "metadata": {
  "kernelspec": {
   "display_name": "Python 3 (ipykernel)",
   "language": "python",
   "name": "python3"
  },
  "language_info": {
   "codemirror_mode": {
    "name": "ipython",
    "version": 3
   },
   "file_extension": ".py",
   "mimetype": "text/x-python",
   "name": "python",
   "nbconvert_exporter": "python",
   "pygments_lexer": "ipython3",
   "version": "3.12.3"
  }
 },
 "nbformat": 4,
 "nbformat_minor": 5
}
